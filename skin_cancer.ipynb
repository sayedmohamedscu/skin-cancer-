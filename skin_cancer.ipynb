{
  "nbformat": 4,
  "nbformat_minor": 0,
  "metadata": {
    "colab": {
      "name": "skin cancer.ipynb",
      "version": "0.3.2",
      "provenance": [],
      "collapsed_sections": [],
      "include_colab_link": true
    },
    "kernelspec": {
      "name": "python3",
      "display_name": "Python 3"
    },
    "accelerator": "GPU"
  },
  "cells": [
    {
      "cell_type": "markdown",
      "metadata": {
        "id": "view-in-github",
        "colab_type": "text"
      },
      "source": [
        "<a href=\"https://colab.research.google.com/github/sayedmohamedscu/skin-cancer-/blob/master/skin_cancer.ipynb\" target=\"_parent\"><img src=\"https://colab.research.google.com/assets/colab-badge.svg\" alt=\"Open In Colab\"/></a>"
      ]
    },
    {
      "cell_type": "code",
      "metadata": {
        "id": "v24gIJ9wOj0K",
        "colab_type": "code",
        "colab": {}
      },
      "source": [
        "import zipfile, urllib.request, shutil\n",
        "\n",
        "url = 'https://s3-us-west-1.amazonaws.com/udacity-dlnfd/datasets/skin-cancer/train.zip'\n",
        "file_name = 'train.zip'\n",
        "\n",
        "with urllib.request.urlopen(url) as response, open(file_name, 'wb') as out_file:\n",
        "    shutil.copyfileobj(response, out_file)\n",
        "    with zipfile.ZipFile(file_name) as zf:\n",
        "        zf.extractall()"
      ],
      "execution_count": 0,
      "outputs": []
    },
    {
      "cell_type": "code",
      "metadata": {
        "id": "MGzQ2hsRPRp_",
        "colab_type": "code",
        "colab": {}
      },
      "source": [
        "import zipfile, urllib.request, shutil\n",
        "\n",
        "url = 'https://s3-us-west-1.amazonaws.com/udacity-dlnfd/datasets/skin-cancer/valid.zip'\n",
        "file_name = 'val.zip'\n",
        "\n",
        "with urllib.request.urlopen(url) as response, open(file_name, 'wb') as out_file:\n",
        "    shutil.copyfileobj(response, out_file)\n",
        "    "
      ],
      "execution_count": 0,
      "outputs": []
    },
    {
      "cell_type": "code",
      "metadata": {
        "id": "e096VZ6iRhwK",
        "colab_type": "code",
        "colab": {}
      },
      "source": [
        "with zipfile.ZipFile('val.zip') as zf:\n",
        "        zf.extractall()"
      ],
      "execution_count": 0,
      "outputs": []
    },
    {
      "cell_type": "code",
      "metadata": {
        "id": "vm6Cyc49P0EX",
        "colab_type": "code",
        "colab": {}
      },
      "source": [
        "import zipfile, urllib.request, shutil\n",
        "\n",
        "url = 'https://s3-us-west-1.amazonaws.com/udacity-dlnfd/datasets/skin-cancer/test.zip'\n",
        "file_name = 'test.zip'\n",
        "\n",
        "with urllib.request.urlopen(url) as response, open(file_name, 'wb') as out_file:\n",
        "    shutil.copyfileobj(response, out_file)\n",
        "    with zipfile.ZipFile(file_name) as zf:\n",
        "        zf.extractall()"
      ],
      "execution_count": 0,
      "outputs": []
    },
    {
      "cell_type": "code",
      "metadata": {
        "id": "N_fGDcoazNM1",
        "colab_type": "code",
        "colab": {}
      },
      "source": [
        "import cv2\n",
        "import os\n",
        "import numpy as np\n",
        "\n",
        "i=0\n",
        "x='/content/valid/seborrheic_keratosis'\n",
        "for labels in os.listdir(x):\n",
        "        y='/content/valid/seborrheic_keratosis/'+labels\n",
        "        \n",
        "        im=cv2.imread(y)\n",
        "        im = cv2.cvtColor(im, cv2.COLOR_BGR2HSV)\n",
        "        im=cv2.resize(im,(224,224))\n",
        "        #str(labels)\n",
        "        #y='x'\n",
        "        #y='/content/train/melanoma/'+labels\n",
        "\n",
        "        cv2.imwrite(y,im)\n",
        "        print (y)\n"
      ],
      "execution_count": 0,
      "outputs": []
    },
    {
      "cell_type": "code",
      "metadata": {
        "id": "9GJdanq6B4Rs",
        "colab_type": "code",
        "colab": {}
      },
      "source": [
        "import cv2\n",
        "import os\n",
        "import numpy as np\n",
        "\n",
        "i=0\n",
        "x='/content/valid/seborrheic_keratosis'\n",
        "for labels in os.listdir(x):\n",
        "        y='/content/valid/seborrheic_keratosis/'+labels\n",
        "        \n",
        "        im=cv2.imread(y)\n",
        "        #im = cv2.cvtColor(im, cv2.COLOR_BGR2HSV)\n",
        "        im=cv2.resize(im,(224,224))\n",
        "        #str(labels)\n",
        "        #y='x'\n",
        "        #y='/content/train/melanoma/'+labels\n",
        "\n",
        "        cv2.imwrite(y,im)\n",
        "        print (y)"
      ],
      "execution_count": 0,
      "outputs": []
    },
    {
      "cell_type": "code",
      "metadata": {
        "id": "k4ifsTuoFnsk",
        "colab_type": "code",
        "colab": {}
      },
      "source": [
        "newpath = r'/content/testt' \n",
        "if not os.path.exists(newpath):\n",
        "    os.makedirs(newpath)"
      ],
      "execution_count": 0,
      "outputs": []
    },
    {
      "cell_type": "code",
      "metadata": {
        "id": "KKjdXfF6T1dn",
        "colab_type": "code",
        "outputId": "01c4bf1e-4768-47ed-989f-967c1bc17476",
        "colab": {
          "base_uri": "https://localhost:8080/",
          "height": 51
        }
      },
      "source": [
        "import os\n",
        "import numpy as np\n",
        "from keras.preprocessing.image import ImageDataGenerator\n",
        "\n",
        "\n",
        "import cv2\n",
        "\n",
        "train_datagen = ImageDataGenerator(\n",
        "      rescale=1./255)\n",
        "\n",
        "# Note that the validation data should not be augmented!\n",
        "test_datagen = ImageDataGenerator(rescale=1./255)\n",
        "\n",
        "train_generator = train_datagen.flow_from_directory(\n",
        "        # This is the target directory\n",
        "        '/content/train',\n",
        "        # All images will be resized to 240*240\n",
        "        target_size=(224, 224),\n",
        "        batch_size=20,\n",
        "        shuffle=True,\n",
        "        class_mode='categorical')\n",
        "\n",
        "validation_generator = test_datagen.flow_from_directory(\n",
        "    '/content/valid',\n",
        "        \n",
        "        target_size=(224, 224),\n",
        "        batch_size=10,\n",
        "        shuffle=True,\n",
        "        class_mode='categorical')"
      ],
      "execution_count": 64,
      "outputs": [
        {
          "output_type": "stream",
          "text": [
            "Found 2000 images belonging to 3 classes.\n",
            "Found 150 images belonging to 3 classes.\n"
          ],
          "name": "stdout"
        }
      ]
    },
    {
      "cell_type": "code",
      "metadata": {
        "id": "tBZZwFzYU1gj",
        "colab_type": "code",
        "colab": {}
      },
      "source": [
        "from __future__ import print_function\n",
        "import keras\n",
        "from keras.datasets import mnist\n",
        "from keras.models import Sequential\n",
        "from keras.layers import Dense, Dropout, Flatten\n",
        "from keras.layers import Conv2D, MaxPooling2D\n",
        "from keras import backend as K"
      ],
      "execution_count": 0,
      "outputs": []
    },
    {
      "cell_type": "code",
      "metadata": {
        "id": "8HqN2S7AVA_b",
        "colab_type": "code",
        "outputId": "aceae082-09cd-4058-c6dd-90da77497ec2",
        "colab": {
          "base_uri": "https://localhost:8080/",
          "height": 408
        }
      },
      "source": [
        "model = Sequential()\n",
        "model.add(Conv2D(300, kernel_size=(3, 3),\n",
        "                 activation='relu',\n",
        "                 input_shape=(224,224,3)))\n",
        "model.add(Conv2D(200, (3, 3), activation='relu'))\n",
        "model.add(MaxPooling2D(pool_size=(2, 2)))\n",
        "model.add(Conv2D(50, (1,1), activation='relu'))\n",
        "#model.add(MaxPooling2D(pool_size=(2, 2)))\n",
        "model.add(Conv2D(100, (3, 3), activation='relu'))\n",
        "model.add(MaxPooling2D(pool_size=(2, 2)))\n",
        "#model.add(Dropout(0.25))\n",
        "model.add(Flatten())\n",
        "#model.add(Dense(40, activation='relu'))\n",
        "#model.add(Dropout(0.5))\n",
        "model.add(Dense(3, activation='softmax'))\n",
        "\n",
        "model.compile(loss=keras.losses.categorical_crossentropy,\n",
        "              optimizer=keras.optimizers.Adadelta(),\n",
        "              metrics=['accuracy'])\n",
        "model.summary()"
      ],
      "execution_count": 65,
      "outputs": [
        {
          "output_type": "stream",
          "text": [
            "_________________________________________________________________\n",
            "Layer (type)                 Output Shape              Param #   \n",
            "=================================================================\n",
            "conv2d_12 (Conv2D)           (None, 222, 222, 300)     8400      \n",
            "_________________________________________________________________\n",
            "conv2d_13 (Conv2D)           (None, 220, 220, 200)     540200    \n",
            "_________________________________________________________________\n",
            "max_pooling2d_8 (MaxPooling2 (None, 110, 110, 200)     0         \n",
            "_________________________________________________________________\n",
            "conv2d_14 (Conv2D)           (None, 110, 110, 50)      10050     \n",
            "_________________________________________________________________\n",
            "conv2d_15 (Conv2D)           (None, 108, 108, 100)     45100     \n",
            "_________________________________________________________________\n",
            "max_pooling2d_9 (MaxPooling2 (None, 54, 54, 100)       0         \n",
            "_________________________________________________________________\n",
            "flatten_6 (Flatten)          (None, 291600)            0         \n",
            "_________________________________________________________________\n",
            "dense_8 (Dense)              (None, 3)                 874803    \n",
            "=================================================================\n",
            "Total params: 1,478,553\n",
            "Trainable params: 1,478,553\n",
            "Non-trainable params: 0\n",
            "_________________________________________________________________\n"
          ],
          "name": "stdout"
        }
      ]
    },
    {
      "cell_type": "code",
      "metadata": {
        "id": "AfAhffUOVL1u",
        "colab_type": "code",
        "outputId": "6c0c92a9-4a85-4157-8421-95df779548bb",
        "colab": {
          "base_uri": "https://localhost:8080/",
          "height": 527
        }
      },
      "source": [
        "history = model.fit_generator(\n",
        "      train_generator,\n",
        "      steps_per_epoch=100,\n",
        "      epochs=15,\n",
        "      \n",
        "      validation_data=validation_generator,\n",
        "      validation_steps=15)\n",
        "model.save('/content/skin.h5')\n"
      ],
      "execution_count": 66,
      "outputs": [
        {
          "output_type": "stream",
          "text": [
            "Epoch 1/15\n",
            "100/100 [==============================] - 89s 885ms/step - loss: 0.9232 - acc: 0.6585 - val_loss: 0.9751 - val_acc: 0.5267\n",
            "Epoch 2/15\n",
            "100/100 [==============================] - 81s 811ms/step - loss: 0.8121 - acc: 0.6770 - val_loss: 1.0934 - val_acc: 0.5267\n",
            "Epoch 3/15\n",
            "100/100 [==============================] - 82s 819ms/step - loss: 0.7779 - acc: 0.6830 - val_loss: 0.9838 - val_acc: 0.5333\n",
            "Epoch 4/15\n",
            "100/100 [==============================] - 82s 821ms/step - loss: 0.7563 - acc: 0.6920 - val_loss: 0.9233 - val_acc: 0.5667\n",
            "Epoch 5/15\n",
            "100/100 [==============================] - 82s 821ms/step - loss: 0.7009 - acc: 0.7140 - val_loss: 0.8729 - val_acc: 0.6067\n",
            "Epoch 6/15\n",
            "100/100 [==============================] - 82s 823ms/step - loss: 0.6510 - acc: 0.7470 - val_loss: 0.9499 - val_acc: 0.6067\n",
            "Epoch 7/15\n",
            "100/100 [==============================] - 83s 827ms/step - loss: 0.5304 - acc: 0.7975 - val_loss: 1.1297 - val_acc: 0.5667\n",
            "Epoch 8/15\n",
            "100/100 [==============================] - 83s 832ms/step - loss: 0.3691 - acc: 0.8605 - val_loss: 1.3784 - val_acc: 0.5533\n",
            "Epoch 9/15\n",
            "100/100 [==============================] - 83s 834ms/step - loss: 0.2451 - acc: 0.9080 - val_loss: 1.9571 - val_acc: 0.5533\n",
            "Epoch 10/15\n",
            "100/100 [==============================] - 83s 829ms/step - loss: 0.1428 - acc: 0.9495 - val_loss: 2.8463 - val_acc: 0.5467\n",
            "Epoch 11/15\n",
            "100/100 [==============================] - 83s 826ms/step - loss: 0.0780 - acc: 0.9765 - val_loss: 3.5725 - val_acc: 0.5667\n",
            "Epoch 12/15\n",
            "100/100 [==============================] - 83s 826ms/step - loss: 0.0611 - acc: 0.9815 - val_loss: 2.8595 - val_acc: 0.5933\n",
            "Epoch 13/15\n",
            "100/100 [==============================] - 83s 826ms/step - loss: 0.0231 - acc: 0.9915 - val_loss: 4.1386 - val_acc: 0.5600\n",
            "Epoch 14/15\n",
            "100/100 [==============================] - 82s 822ms/step - loss: 0.0242 - acc: 0.9920 - val_loss: 3.7137 - val_acc: 0.5533\n",
            "Epoch 15/15\n",
            "100/100 [==============================] - 82s 822ms/step - loss: 0.0196 - acc: 0.9955 - val_loss: 3.9995 - val_acc: 0.5667\n"
          ],
          "name": "stdout"
        }
      ]
    },
    {
      "cell_type": "code",
      "metadata": {
        "id": "KYLKUc4Wpegf",
        "colab_type": "code",
        "colab": {}
      },
      "source": [
        "import keras\n",
        "from keras import models\n",
        "from keras import layers\n",
        "\n",
        "from keras.layers import Dense,GlobalAveragePooling2D,Flatten,Dropout,BatchNormalization\n",
        "from keras.layers import Conv2D, MaxPooling2D"
      ],
      "execution_count": 0,
      "outputs": []
    },
    {
      "cell_type": "code",
      "metadata": {
        "id": "piIZn9P6pf2z",
        "colab_type": "code",
        "colab": {
          "base_uri": "https://localhost:8080/",
          "height": 782
        },
        "outputId": "1f37de57-60c4-4d88-91d2-bae0e2150787"
      },
      "source": [
        "from keras.applications import VGG16\n",
        "from keras.applications import MobileNet\n",
        "from keras.applications.inception_v3 import InceptionV3\n",
        "\n",
        "\n",
        "base_model = VGG16(weights='imagenet',\n",
        "                  include_top=False,\n",
        "                  input_shape=(224, 224, 3))\n",
        "base_model.summary()"
      ],
      "execution_count": 68,
      "outputs": [
        {
          "output_type": "stream",
          "text": [
            "_________________________________________________________________\n",
            "Layer (type)                 Output Shape              Param #   \n",
            "=================================================================\n",
            "input_3 (InputLayer)         (None, 224, 224, 3)       0         \n",
            "_________________________________________________________________\n",
            "block1_conv1 (Conv2D)        (None, 224, 224, 64)      1792      \n",
            "_________________________________________________________________\n",
            "block1_conv2 (Conv2D)        (None, 224, 224, 64)      36928     \n",
            "_________________________________________________________________\n",
            "block1_pool (MaxPooling2D)   (None, 112, 112, 64)      0         \n",
            "_________________________________________________________________\n",
            "block2_conv1 (Conv2D)        (None, 112, 112, 128)     73856     \n",
            "_________________________________________________________________\n",
            "block2_conv2 (Conv2D)        (None, 112, 112, 128)     147584    \n",
            "_________________________________________________________________\n",
            "block2_pool (MaxPooling2D)   (None, 56, 56, 128)       0         \n",
            "_________________________________________________________________\n",
            "block3_conv1 (Conv2D)        (None, 56, 56, 256)       295168    \n",
            "_________________________________________________________________\n",
            "block3_conv2 (Conv2D)        (None, 56, 56, 256)       590080    \n",
            "_________________________________________________________________\n",
            "block3_conv3 (Conv2D)        (None, 56, 56, 256)       590080    \n",
            "_________________________________________________________________\n",
            "block3_pool (MaxPooling2D)   (None, 28, 28, 256)       0         \n",
            "_________________________________________________________________\n",
            "block4_conv1 (Conv2D)        (None, 28, 28, 512)       1180160   \n",
            "_________________________________________________________________\n",
            "block4_conv2 (Conv2D)        (None, 28, 28, 512)       2359808   \n",
            "_________________________________________________________________\n",
            "block4_conv3 (Conv2D)        (None, 28, 28, 512)       2359808   \n",
            "_________________________________________________________________\n",
            "block4_pool (MaxPooling2D)   (None, 14, 14, 512)       0         \n",
            "_________________________________________________________________\n",
            "block5_conv1 (Conv2D)        (None, 14, 14, 512)       2359808   \n",
            "_________________________________________________________________\n",
            "block5_conv2 (Conv2D)        (None, 14, 14, 512)       2359808   \n",
            "_________________________________________________________________\n",
            "block5_conv3 (Conv2D)        (None, 14, 14, 512)       2359808   \n",
            "_________________________________________________________________\n",
            "block5_pool (MaxPooling2D)   (None, 7, 7, 512)         0         \n",
            "=================================================================\n",
            "Total params: 14,714,688\n",
            "Trainable params: 14,714,688\n",
            "Non-trainable params: 0\n",
            "_________________________________________________________________\n"
          ],
          "name": "stdout"
        }
      ]
    },
    {
      "cell_type": "code",
      "metadata": {
        "id": "_5DdgLTmpy_z",
        "colab_type": "code",
        "colab": {
          "base_uri": "https://localhost:8080/",
          "height": 918
        },
        "outputId": "8c22a21d-b355-449e-f2e9-d9f6d0b7d207"
      },
      "source": [
        "x=base_model.output\n",
        "from keras.models import Model\n",
        "x = Conv2D(512, kernel_size = (3,3), padding = 'valid')(x)\n",
        "x=MaxPooling2D(pool_size=(2, 2))(x)\n",
        "#x = keras.layers.GlobalAveragePooling2D()(x)\n",
        "x = Flatten()(x)\n",
        "#x=Dropout(0.2)(x)\n",
        "\n",
        "\n",
        "#x = Dense(20, activation='relu')(x)\n",
        "\n",
        "x = Dense(3 , activation='sigmoid')(x)\n",
        "model=Model(inputs=base_model.input,outputs=x)\n",
        "model.summary()\n"
      ],
      "execution_count": 77,
      "outputs": [
        {
          "output_type": "stream",
          "text": [
            "_________________________________________________________________\n",
            "Layer (type)                 Output Shape              Param #   \n",
            "=================================================================\n",
            "input_3 (InputLayer)         (None, 224, 224, 3)       0         \n",
            "_________________________________________________________________\n",
            "block1_conv1 (Conv2D)        (None, 224, 224, 64)      1792      \n",
            "_________________________________________________________________\n",
            "block1_conv2 (Conv2D)        (None, 224, 224, 64)      36928     \n",
            "_________________________________________________________________\n",
            "block1_pool (MaxPooling2D)   (None, 112, 112, 64)      0         \n",
            "_________________________________________________________________\n",
            "block2_conv1 (Conv2D)        (None, 112, 112, 128)     73856     \n",
            "_________________________________________________________________\n",
            "block2_conv2 (Conv2D)        (None, 112, 112, 128)     147584    \n",
            "_________________________________________________________________\n",
            "block2_pool (MaxPooling2D)   (None, 56, 56, 128)       0         \n",
            "_________________________________________________________________\n",
            "block3_conv1 (Conv2D)        (None, 56, 56, 256)       295168    \n",
            "_________________________________________________________________\n",
            "block3_conv2 (Conv2D)        (None, 56, 56, 256)       590080    \n",
            "_________________________________________________________________\n",
            "block3_conv3 (Conv2D)        (None, 56, 56, 256)       590080    \n",
            "_________________________________________________________________\n",
            "block3_pool (MaxPooling2D)   (None, 28, 28, 256)       0         \n",
            "_________________________________________________________________\n",
            "block4_conv1 (Conv2D)        (None, 28, 28, 512)       1180160   \n",
            "_________________________________________________________________\n",
            "block4_conv2 (Conv2D)        (None, 28, 28, 512)       2359808   \n",
            "_________________________________________________________________\n",
            "block4_conv3 (Conv2D)        (None, 28, 28, 512)       2359808   \n",
            "_________________________________________________________________\n",
            "block4_pool (MaxPooling2D)   (None, 14, 14, 512)       0         \n",
            "_________________________________________________________________\n",
            "block5_conv1 (Conv2D)        (None, 14, 14, 512)       2359808   \n",
            "_________________________________________________________________\n",
            "block5_conv2 (Conv2D)        (None, 14, 14, 512)       2359808   \n",
            "_________________________________________________________________\n",
            "block5_conv3 (Conv2D)        (None, 14, 14, 512)       2359808   \n",
            "_________________________________________________________________\n",
            "block5_pool (MaxPooling2D)   (None, 7, 7, 512)         0         \n",
            "_________________________________________________________________\n",
            "conv2d_17 (Conv2D)           (None, 5, 5, 512)         2359808   \n",
            "_________________________________________________________________\n",
            "max_pooling2d_11 (MaxPooling (None, 2, 2, 512)         0         \n",
            "_________________________________________________________________\n",
            "flatten_8 (Flatten)          (None, 2048)              0         \n",
            "_________________________________________________________________\n",
            "dense_10 (Dense)             (None, 3)                 6147      \n",
            "=================================================================\n",
            "Total params: 17,080,643\n",
            "Trainable params: 17,041,923\n",
            "Non-trainable params: 38,720\n",
            "_________________________________________________________________\n"
          ],
          "name": "stdout"
        }
      ]
    },
    {
      "cell_type": "code",
      "metadata": {
        "id": "rMU7vC2Uq_rm",
        "colab_type": "code",
        "colab": {
          "base_uri": "https://localhost:8080/",
          "height": 918
        },
        "outputId": "9029ec7c-37d8-4522-cad6-051507284f88"
      },
      "source": [
        "model.summary()\n"
      ],
      "execution_count": 78,
      "outputs": [
        {
          "output_type": "stream",
          "text": [
            "_________________________________________________________________\n",
            "Layer (type)                 Output Shape              Param #   \n",
            "=================================================================\n",
            "input_3 (InputLayer)         (None, 224, 224, 3)       0         \n",
            "_________________________________________________________________\n",
            "block1_conv1 (Conv2D)        (None, 224, 224, 64)      1792      \n",
            "_________________________________________________________________\n",
            "block1_conv2 (Conv2D)        (None, 224, 224, 64)      36928     \n",
            "_________________________________________________________________\n",
            "block1_pool (MaxPooling2D)   (None, 112, 112, 64)      0         \n",
            "_________________________________________________________________\n",
            "block2_conv1 (Conv2D)        (None, 112, 112, 128)     73856     \n",
            "_________________________________________________________________\n",
            "block2_conv2 (Conv2D)        (None, 112, 112, 128)     147584    \n",
            "_________________________________________________________________\n",
            "block2_pool (MaxPooling2D)   (None, 56, 56, 128)       0         \n",
            "_________________________________________________________________\n",
            "block3_conv1 (Conv2D)        (None, 56, 56, 256)       295168    \n",
            "_________________________________________________________________\n",
            "block3_conv2 (Conv2D)        (None, 56, 56, 256)       590080    \n",
            "_________________________________________________________________\n",
            "block3_conv3 (Conv2D)        (None, 56, 56, 256)       590080    \n",
            "_________________________________________________________________\n",
            "block3_pool (MaxPooling2D)   (None, 28, 28, 256)       0         \n",
            "_________________________________________________________________\n",
            "block4_conv1 (Conv2D)        (None, 28, 28, 512)       1180160   \n",
            "_________________________________________________________________\n",
            "block4_conv2 (Conv2D)        (None, 28, 28, 512)       2359808   \n",
            "_________________________________________________________________\n",
            "block4_conv3 (Conv2D)        (None, 28, 28, 512)       2359808   \n",
            "_________________________________________________________________\n",
            "block4_pool (MaxPooling2D)   (None, 14, 14, 512)       0         \n",
            "_________________________________________________________________\n",
            "block5_conv1 (Conv2D)        (None, 14, 14, 512)       2359808   \n",
            "_________________________________________________________________\n",
            "block5_conv2 (Conv2D)        (None, 14, 14, 512)       2359808   \n",
            "_________________________________________________________________\n",
            "block5_conv3 (Conv2D)        (None, 14, 14, 512)       2359808   \n",
            "_________________________________________________________________\n",
            "block5_pool (MaxPooling2D)   (None, 7, 7, 512)         0         \n",
            "_________________________________________________________________\n",
            "conv2d_17 (Conv2D)           (None, 5, 5, 512)         2359808   \n",
            "_________________________________________________________________\n",
            "max_pooling2d_11 (MaxPooling (None, 2, 2, 512)         0         \n",
            "_________________________________________________________________\n",
            "flatten_8 (Flatten)          (None, 2048)              0         \n",
            "_________________________________________________________________\n",
            "dense_10 (Dense)             (None, 3)                 6147      \n",
            "=================================================================\n",
            "Total params: 17,080,643\n",
            "Trainable params: 17,041,923\n",
            "Non-trainable params: 38,720\n",
            "_________________________________________________________________\n"
          ],
          "name": "stdout"
        }
      ]
    },
    {
      "cell_type": "code",
      "metadata": {
        "id": "sUBsFvNhpjdb",
        "colab_type": "code",
        "colab": {}
      },
      "source": [
        "model.trainable = True\n",
        "\n",
        "set_trainable = False\n",
        "for layer in model.layers:\n",
        "    if layer.name == 'block2_conv1':\n",
        "        set_trainable = True\n",
        "    if set_trainable:\n",
        "        layer.trainable = True\n",
        "    else:\n",
        "        layer.trainable = False"
      ],
      "execution_count": 0,
      "outputs": []
    },
    {
      "cell_type": "code",
      "metadata": {
        "id": "1rNQksrCp_Sr",
        "colab_type": "code",
        "colab": {
          "base_uri": "https://localhost:8080/",
          "height": 918
        },
        "outputId": "3d52e4eb-3017-423e-b068-8dd5939f9be1"
      },
      "source": [
        "model.compile(loss=keras.losses.categorical_crossentropy,\n",
        "              optimizer=keras.optimizers.SGD(),\n",
        "              metrics=['accuracy'])\n",
        "model.summary()"
      ],
      "execution_count": 80,
      "outputs": [
        {
          "output_type": "stream",
          "text": [
            "_________________________________________________________________\n",
            "Layer (type)                 Output Shape              Param #   \n",
            "=================================================================\n",
            "input_3 (InputLayer)         (None, 224, 224, 3)       0         \n",
            "_________________________________________________________________\n",
            "block1_conv1 (Conv2D)        (None, 224, 224, 64)      1792      \n",
            "_________________________________________________________________\n",
            "block1_conv2 (Conv2D)        (None, 224, 224, 64)      36928     \n",
            "_________________________________________________________________\n",
            "block1_pool (MaxPooling2D)   (None, 112, 112, 64)      0         \n",
            "_________________________________________________________________\n",
            "block2_conv1 (Conv2D)        (None, 112, 112, 128)     73856     \n",
            "_________________________________________________________________\n",
            "block2_conv2 (Conv2D)        (None, 112, 112, 128)     147584    \n",
            "_________________________________________________________________\n",
            "block2_pool (MaxPooling2D)   (None, 56, 56, 128)       0         \n",
            "_________________________________________________________________\n",
            "block3_conv1 (Conv2D)        (None, 56, 56, 256)       295168    \n",
            "_________________________________________________________________\n",
            "block3_conv2 (Conv2D)        (None, 56, 56, 256)       590080    \n",
            "_________________________________________________________________\n",
            "block3_conv3 (Conv2D)        (None, 56, 56, 256)       590080    \n",
            "_________________________________________________________________\n",
            "block3_pool (MaxPooling2D)   (None, 28, 28, 256)       0         \n",
            "_________________________________________________________________\n",
            "block4_conv1 (Conv2D)        (None, 28, 28, 512)       1180160   \n",
            "_________________________________________________________________\n",
            "block4_conv2 (Conv2D)        (None, 28, 28, 512)       2359808   \n",
            "_________________________________________________________________\n",
            "block4_conv3 (Conv2D)        (None, 28, 28, 512)       2359808   \n",
            "_________________________________________________________________\n",
            "block4_pool (MaxPooling2D)   (None, 14, 14, 512)       0         \n",
            "_________________________________________________________________\n",
            "block5_conv1 (Conv2D)        (None, 14, 14, 512)       2359808   \n",
            "_________________________________________________________________\n",
            "block5_conv2 (Conv2D)        (None, 14, 14, 512)       2359808   \n",
            "_________________________________________________________________\n",
            "block5_conv3 (Conv2D)        (None, 14, 14, 512)       2359808   \n",
            "_________________________________________________________________\n",
            "block5_pool (MaxPooling2D)   (None, 7, 7, 512)         0         \n",
            "_________________________________________________________________\n",
            "conv2d_17 (Conv2D)           (None, 5, 5, 512)         2359808   \n",
            "_________________________________________________________________\n",
            "max_pooling2d_11 (MaxPooling (None, 2, 2, 512)         0         \n",
            "_________________________________________________________________\n",
            "flatten_8 (Flatten)          (None, 2048)              0         \n",
            "_________________________________________________________________\n",
            "dense_10 (Dense)             (None, 3)                 6147      \n",
            "=================================================================\n",
            "Total params: 17,080,643\n",
            "Trainable params: 17,041,923\n",
            "Non-trainable params: 38,720\n",
            "_________________________________________________________________\n"
          ],
          "name": "stdout"
        }
      ]
    },
    {
      "cell_type": "code",
      "metadata": {
        "id": "443pJmq-r4Qc",
        "colab_type": "code",
        "colab": {
          "base_uri": "https://localhost:8080/",
          "height": 2533
        },
        "outputId": "55ca9913-8541-4e03-d8bd-51776017ad06"
      },
      "source": [
        "history = model.fit_generator(\n",
        "      train_generator,\n",
        "      steps_per_epoch=40,\n",
        "      epochs=100,\n",
        "      \n",
        "      validation_data=validation_generator,\n",
        "      validation_steps=60)\n",
        "model.save('/content/skin2.h5')"
      ],
      "execution_count": 82,
      "outputs": [
        {
          "output_type": "stream",
          "text": [
            "Epoch 1/100\n",
            "40/40 [==============================] - 15s 368ms/step - loss: 0.6050 - acc: 0.7462 - val_loss: 0.9746 - val_acc: 0.6033\n",
            "Epoch 2/100\n",
            "40/40 [==============================] - 15s 367ms/step - loss: 0.5540 - acc: 0.7725 - val_loss: 1.0421 - val_acc: 0.6150\n",
            "Epoch 3/100\n",
            "40/40 [==============================] - 15s 369ms/step - loss: 0.6047 - acc: 0.7538 - val_loss: 0.8398 - val_acc: 0.6200\n",
            "Epoch 4/100\n",
            "40/40 [==============================] - 15s 370ms/step - loss: 0.5185 - acc: 0.7750 - val_loss: 0.8066 - val_acc: 0.6600\n",
            "Epoch 5/100\n",
            "40/40 [==============================] - 15s 370ms/step - loss: 0.4733 - acc: 0.8112 - val_loss: 0.9403 - val_acc: 0.6333\n",
            "Epoch 6/100\n",
            "40/40 [==============================] - 15s 370ms/step - loss: 0.5164 - acc: 0.7850 - val_loss: 0.8610 - val_acc: 0.6733\n",
            "Epoch 7/100\n",
            "40/40 [==============================] - 15s 371ms/step - loss: 0.5212 - acc: 0.7737 - val_loss: 0.8704 - val_acc: 0.6617\n",
            "Epoch 8/100\n",
            "40/40 [==============================] - 15s 372ms/step - loss: 0.4540 - acc: 0.8037 - val_loss: 0.9492 - val_acc: 0.6217\n",
            "Epoch 9/100\n",
            "40/40 [==============================] - 15s 373ms/step - loss: 0.4609 - acc: 0.8112 - val_loss: 1.0807 - val_acc: 0.6317\n",
            "Epoch 10/100\n",
            "40/40 [==============================] - 15s 373ms/step - loss: 0.4377 - acc: 0.8362 - val_loss: 1.0732 - val_acc: 0.6283\n",
            "Epoch 11/100\n",
            "40/40 [==============================] - 15s 373ms/step - loss: 0.4750 - acc: 0.7975 - val_loss: 0.9102 - val_acc: 0.6583\n",
            "Epoch 12/100\n",
            "40/40 [==============================] - 15s 371ms/step - loss: 0.6654 - acc: 0.7437 - val_loss: 0.9080 - val_acc: 0.5283\n",
            "Epoch 13/100\n",
            "40/40 [==============================] - 15s 373ms/step - loss: 0.5838 - acc: 0.7413 - val_loss: 1.0006 - val_acc: 0.5817\n",
            "Epoch 14/100\n",
            "40/40 [==============================] - 15s 373ms/step - loss: 0.4049 - acc: 0.8400 - val_loss: 0.8485 - val_acc: 0.6083\n",
            "Epoch 15/100\n",
            "40/40 [==============================] - 15s 375ms/step - loss: 0.3702 - acc: 0.8425 - val_loss: 0.8846 - val_acc: 0.6467\n",
            "Epoch 16/100\n",
            "40/40 [==============================] - 15s 375ms/step - loss: 0.4572 - acc: 0.8113 - val_loss: 1.0178 - val_acc: 0.5883\n",
            "Epoch 17/100\n",
            "40/40 [==============================] - 15s 374ms/step - loss: 0.3580 - acc: 0.8587 - val_loss: 1.1229 - val_acc: 0.6250\n",
            "Epoch 18/100\n",
            "40/40 [==============================] - 15s 375ms/step - loss: 0.2890 - acc: 0.8925 - val_loss: 1.3458 - val_acc: 0.6333\n",
            "Epoch 19/100\n",
            "40/40 [==============================] - 15s 376ms/step - loss: 0.3077 - acc: 0.8675 - val_loss: 1.3436 - val_acc: 0.6267\n",
            "Epoch 20/100\n",
            "40/40 [==============================] - 15s 375ms/step - loss: 0.2958 - acc: 0.8750 - val_loss: 1.0326 - val_acc: 0.6450\n",
            "Epoch 21/100\n",
            "40/40 [==============================] - 15s 374ms/step - loss: 0.4840 - acc: 0.8000 - val_loss: 0.9989 - val_acc: 0.6017\n",
            "Epoch 22/100\n",
            "40/40 [==============================] - 15s 376ms/step - loss: 0.3153 - acc: 0.8812 - val_loss: 1.0587 - val_acc: 0.6550\n",
            "Epoch 23/100\n",
            "40/40 [==============================] - 15s 377ms/step - loss: 0.2417 - acc: 0.9050 - val_loss: 1.1635 - val_acc: 0.6500\n",
            "Epoch 24/100\n",
            "40/40 [==============================] - 15s 380ms/step - loss: 0.3242 - acc: 0.8775 - val_loss: 1.0669 - val_acc: 0.6367\n",
            "Epoch 25/100\n",
            "40/40 [==============================] - 15s 380ms/step - loss: 0.1429 - acc: 0.9512 - val_loss: 1.2760 - val_acc: 0.6267\n",
            "Epoch 26/100\n",
            "40/40 [==============================] - 15s 380ms/step - loss: 0.1976 - acc: 0.9412 - val_loss: 1.2897 - val_acc: 0.6150\n",
            "Epoch 27/100\n",
            "40/40 [==============================] - 15s 378ms/step - loss: 0.2474 - acc: 0.9125 - val_loss: 1.2706 - val_acc: 0.6333\n",
            "Epoch 28/100\n",
            "40/40 [==============================] - 15s 378ms/step - loss: 0.1275 - acc: 0.9462 - val_loss: 1.5438 - val_acc: 0.5717\n",
            "Epoch 29/100\n",
            "40/40 [==============================] - 15s 377ms/step - loss: 0.2437 - acc: 0.9112 - val_loss: 0.9333 - val_acc: 0.5867\n",
            "Epoch 30/100\n",
            "40/40 [==============================] - 15s 378ms/step - loss: 0.1329 - acc: 0.9537 - val_loss: 1.5502 - val_acc: 0.6283\n",
            "Epoch 31/100\n",
            "40/40 [==============================] - 15s 377ms/step - loss: 0.1651 - acc: 0.9275 - val_loss: 1.5315 - val_acc: 0.6467\n",
            "Epoch 32/100\n",
            "40/40 [==============================] - 15s 376ms/step - loss: 0.1322 - acc: 0.9500 - val_loss: 1.5492 - val_acc: 0.6717\n",
            "Epoch 33/100\n",
            "40/40 [==============================] - 15s 377ms/step - loss: 0.1544 - acc: 0.9400 - val_loss: 1.4989 - val_acc: 0.5867\n",
            "Epoch 34/100\n",
            "40/40 [==============================] - 15s 377ms/step - loss: 0.0871 - acc: 0.9725 - val_loss: 1.9061 - val_acc: 0.6017\n",
            "Epoch 35/100\n",
            "40/40 [==============================] - 15s 377ms/step - loss: 0.0941 - acc: 0.9725 - val_loss: 1.8862 - val_acc: 0.6200\n",
            "Epoch 36/100\n",
            "40/40 [==============================] - 15s 376ms/step - loss: 0.1454 - acc: 0.9462 - val_loss: 1.3500 - val_acc: 0.6333\n",
            "Epoch 37/100\n",
            "40/40 [==============================] - 15s 376ms/step - loss: 0.0436 - acc: 0.9875 - val_loss: 2.0911 - val_acc: 0.6233\n",
            "Epoch 38/100\n",
            "40/40 [==============================] - 15s 375ms/step - loss: 0.0144 - acc: 0.9975 - val_loss: 2.4266 - val_acc: 0.6367\n",
            "Epoch 39/100\n",
            "40/40 [==============================] - 15s 376ms/step - loss: 0.2070 - acc: 0.9250 - val_loss: 1.4267 - val_acc: 0.6100\n",
            "Epoch 40/100\n",
            "40/40 [==============================] - 15s 376ms/step - loss: 0.0626 - acc: 0.9750 - val_loss: 2.7807 - val_acc: 0.6233\n",
            "Epoch 41/100\n",
            "40/40 [==============================] - 15s 376ms/step - loss: 0.2074 - acc: 0.9287 - val_loss: 0.8876 - val_acc: 0.5883\n",
            "Epoch 42/100\n",
            "40/40 [==============================] - 15s 376ms/step - loss: 0.1506 - acc: 0.9450 - val_loss: 1.6551 - val_acc: 0.5983\n",
            "Epoch 43/100\n",
            "40/40 [==============================] - 15s 376ms/step - loss: 0.1922 - acc: 0.9462 - val_loss: 1.4965 - val_acc: 0.6333\n",
            "Epoch 44/100\n",
            "40/40 [==============================] - 15s 377ms/step - loss: 0.0650 - acc: 0.9800 - val_loss: 1.5856 - val_acc: 0.6133\n",
            "Epoch 45/100\n",
            "40/40 [==============================] - 15s 378ms/step - loss: 0.0173 - acc: 0.9975 - val_loss: 1.8507 - val_acc: 0.5900\n",
            "Epoch 46/100\n",
            "40/40 [==============================] - 15s 380ms/step - loss: 0.0068 - acc: 0.9975 - val_loss: 2.0717 - val_acc: 0.6317\n",
            "Epoch 47/100\n",
            "40/40 [==============================] - 15s 378ms/step - loss: 0.0129 - acc: 0.9975 - val_loss: 2.3264 - val_acc: 0.6367\n",
            "Epoch 48/100\n",
            "40/40 [==============================] - 15s 376ms/step - loss: 0.0022 - acc: 1.0000 - val_loss: 2.7387 - val_acc: 0.6200\n",
            "Epoch 49/100\n",
            "40/40 [==============================] - 15s 375ms/step - loss: 0.1551 - acc: 0.9675 - val_loss: 0.9423 - val_acc: 0.6383\n",
            "Epoch 50/100\n",
            "40/40 [==============================] - 15s 377ms/step - loss: 0.0982 - acc: 0.9675 - val_loss: 1.3671 - val_acc: 0.6433\n",
            "Epoch 51/100\n",
            "40/40 [==============================] - 15s 378ms/step - loss: 0.0506 - acc: 0.9850 - val_loss: 2.6040 - val_acc: 0.6533\n",
            "Epoch 52/100\n",
            "40/40 [==============================] - 15s 377ms/step - loss: 0.0794 - acc: 0.9712 - val_loss: 1.6312 - val_acc: 0.6267\n",
            "Epoch 53/100\n",
            "40/40 [==============================] - 15s 376ms/step - loss: 0.0098 - acc: 0.9975 - val_loss: 2.1039 - val_acc: 0.6400\n",
            "Epoch 54/100\n",
            "40/40 [==============================] - 15s 376ms/step - loss: 0.0054 - acc: 1.0000 - val_loss: 2.5410 - val_acc: 0.6200\n",
            "Epoch 55/100\n",
            "40/40 [==============================] - 15s 375ms/step - loss: 0.0013 - acc: 1.0000 - val_loss: 2.6799 - val_acc: 0.6350\n",
            "Epoch 56/100\n",
            "40/40 [==============================] - 15s 374ms/step - loss: 0.0017 - acc: 1.0000 - val_loss: 2.8943 - val_acc: 0.6500\n",
            "Epoch 57/100\n",
            "40/40 [==============================] - 15s 373ms/step - loss: 5.7179e-04 - acc: 1.0000 - val_loss: 2.8525 - val_acc: 0.6317\n",
            "Epoch 58/100\n",
            "40/40 [==============================] - 15s 374ms/step - loss: 0.0012 - acc: 1.0000 - val_loss: 2.9996 - val_acc: 0.6283\n",
            "Epoch 59/100\n",
            "40/40 [==============================] - 15s 372ms/step - loss: 4.5544e-04 - acc: 1.0000 - val_loss: 2.9939 - val_acc: 0.6433\n",
            "Epoch 60/100\n",
            "40/40 [==============================] - 15s 374ms/step - loss: 2.9512e-04 - acc: 1.0000 - val_loss: 2.7778 - val_acc: 0.6200\n",
            "Epoch 61/100\n",
            "40/40 [==============================] - 15s 366ms/step - loss: 0.0560 - acc: 0.9600 - val_loss: 0.9888 - val_acc: 0.2000\n",
            "Epoch 62/100\n",
            "40/40 [==============================] - 14s 345ms/step - loss: 1.0986 - acc: 0.1788 - val_loss: 0.9888 - val_acc: 0.2117\n",
            "Epoch 63/100\n",
            "40/40 [==============================] - 14s 345ms/step - loss: 1.0986 - acc: 0.2113 - val_loss: 0.9888 - val_acc: 0.1950\n",
            "Epoch 64/100\n",
            "17/40 [===========>..................] - ETA: 5s - loss: 1.0986 - acc: 0.1559"
          ],
          "name": "stdout"
        },
        {
          "output_type": "error",
          "ename": "KeyboardInterrupt",
          "evalue": "ignored",
          "traceback": [
            "\u001b[0;31m---------------------------------------------------------------------------\u001b[0m",
            "\u001b[0;31mKeyboardInterrupt\u001b[0m                         Traceback (most recent call last)",
            "\u001b[0;32m<ipython-input-82-d7d79dd7b8a5>\u001b[0m in \u001b[0;36m<module>\u001b[0;34m()\u001b[0m\n\u001b[1;32m      5\u001b[0m \u001b[0;34m\u001b[0m\u001b[0m\n\u001b[1;32m      6\u001b[0m       \u001b[0mvalidation_data\u001b[0m\u001b[0;34m=\u001b[0m\u001b[0mvalidation_generator\u001b[0m\u001b[0;34m,\u001b[0m\u001b[0;34m\u001b[0m\u001b[0;34m\u001b[0m\u001b[0m\n\u001b[0;32m----> 7\u001b[0;31m       validation_steps=60)\n\u001b[0m\u001b[1;32m      8\u001b[0m \u001b[0mmodel\u001b[0m\u001b[0;34m.\u001b[0m\u001b[0msave\u001b[0m\u001b[0;34m(\u001b[0m\u001b[0;34m'/content/skin2.h5'\u001b[0m\u001b[0;34m)\u001b[0m\u001b[0;34m\u001b[0m\u001b[0;34m\u001b[0m\u001b[0m\n",
            "\u001b[0;32m/usr/local/lib/python3.6/dist-packages/keras/legacy/interfaces.py\u001b[0m in \u001b[0;36mwrapper\u001b[0;34m(*args, **kwargs)\u001b[0m\n\u001b[1;32m     89\u001b[0m                 warnings.warn('Update your `' + object_name + '` call to the ' +\n\u001b[1;32m     90\u001b[0m                               'Keras 2 API: ' + signature, stacklevel=2)\n\u001b[0;32m---> 91\u001b[0;31m             \u001b[0;32mreturn\u001b[0m \u001b[0mfunc\u001b[0m\u001b[0;34m(\u001b[0m\u001b[0;34m*\u001b[0m\u001b[0margs\u001b[0m\u001b[0;34m,\u001b[0m \u001b[0;34m**\u001b[0m\u001b[0mkwargs\u001b[0m\u001b[0;34m)\u001b[0m\u001b[0;34m\u001b[0m\u001b[0;34m\u001b[0m\u001b[0m\n\u001b[0m\u001b[1;32m     92\u001b[0m         \u001b[0mwrapper\u001b[0m\u001b[0;34m.\u001b[0m\u001b[0m_original_function\u001b[0m \u001b[0;34m=\u001b[0m \u001b[0mfunc\u001b[0m\u001b[0;34m\u001b[0m\u001b[0;34m\u001b[0m\u001b[0m\n\u001b[1;32m     93\u001b[0m         \u001b[0;32mreturn\u001b[0m \u001b[0mwrapper\u001b[0m\u001b[0;34m\u001b[0m\u001b[0;34m\u001b[0m\u001b[0m\n",
            "\u001b[0;32m/usr/local/lib/python3.6/dist-packages/keras/engine/training.py\u001b[0m in \u001b[0;36mfit_generator\u001b[0;34m(self, generator, steps_per_epoch, epochs, verbose, callbacks, validation_data, validation_steps, class_weight, max_queue_size, workers, use_multiprocessing, shuffle, initial_epoch)\u001b[0m\n\u001b[1;32m   1416\u001b[0m             \u001b[0muse_multiprocessing\u001b[0m\u001b[0;34m=\u001b[0m\u001b[0muse_multiprocessing\u001b[0m\u001b[0;34m,\u001b[0m\u001b[0;34m\u001b[0m\u001b[0;34m\u001b[0m\u001b[0m\n\u001b[1;32m   1417\u001b[0m             \u001b[0mshuffle\u001b[0m\u001b[0;34m=\u001b[0m\u001b[0mshuffle\u001b[0m\u001b[0;34m,\u001b[0m\u001b[0;34m\u001b[0m\u001b[0;34m\u001b[0m\u001b[0m\n\u001b[0;32m-> 1418\u001b[0;31m             initial_epoch=initial_epoch)\n\u001b[0m\u001b[1;32m   1419\u001b[0m \u001b[0;34m\u001b[0m\u001b[0m\n\u001b[1;32m   1420\u001b[0m     \u001b[0;34m@\u001b[0m\u001b[0minterfaces\u001b[0m\u001b[0;34m.\u001b[0m\u001b[0mlegacy_generator_methods_support\u001b[0m\u001b[0;34m\u001b[0m\u001b[0;34m\u001b[0m\u001b[0m\n",
            "\u001b[0;32m/usr/local/lib/python3.6/dist-packages/keras/engine/training_generator.py\u001b[0m in \u001b[0;36mfit_generator\u001b[0;34m(model, generator, steps_per_epoch, epochs, verbose, callbacks, validation_data, validation_steps, class_weight, max_queue_size, workers, use_multiprocessing, shuffle, initial_epoch)\u001b[0m\n\u001b[1;32m    215\u001b[0m                 outs = model.train_on_batch(x, y,\n\u001b[1;32m    216\u001b[0m                                             \u001b[0msample_weight\u001b[0m\u001b[0;34m=\u001b[0m\u001b[0msample_weight\u001b[0m\u001b[0;34m,\u001b[0m\u001b[0;34m\u001b[0m\u001b[0;34m\u001b[0m\u001b[0m\n\u001b[0;32m--> 217\u001b[0;31m                                             class_weight=class_weight)\n\u001b[0m\u001b[1;32m    218\u001b[0m \u001b[0;34m\u001b[0m\u001b[0m\n\u001b[1;32m    219\u001b[0m                 \u001b[0mouts\u001b[0m \u001b[0;34m=\u001b[0m \u001b[0mto_list\u001b[0m\u001b[0;34m(\u001b[0m\u001b[0mouts\u001b[0m\u001b[0;34m)\u001b[0m\u001b[0;34m\u001b[0m\u001b[0;34m\u001b[0m\u001b[0m\n",
            "\u001b[0;32m/usr/local/lib/python3.6/dist-packages/keras/engine/training.py\u001b[0m in \u001b[0;36mtrain_on_batch\u001b[0;34m(self, x, y, sample_weight, class_weight)\u001b[0m\n\u001b[1;32m   1215\u001b[0m             \u001b[0mins\u001b[0m \u001b[0;34m=\u001b[0m \u001b[0mx\u001b[0m \u001b[0;34m+\u001b[0m \u001b[0my\u001b[0m \u001b[0;34m+\u001b[0m \u001b[0msample_weights\u001b[0m\u001b[0;34m\u001b[0m\u001b[0;34m\u001b[0m\u001b[0m\n\u001b[1;32m   1216\u001b[0m         \u001b[0mself\u001b[0m\u001b[0;34m.\u001b[0m\u001b[0m_make_train_function\u001b[0m\u001b[0;34m(\u001b[0m\u001b[0;34m)\u001b[0m\u001b[0;34m\u001b[0m\u001b[0;34m\u001b[0m\u001b[0m\n\u001b[0;32m-> 1217\u001b[0;31m         \u001b[0moutputs\u001b[0m \u001b[0;34m=\u001b[0m \u001b[0mself\u001b[0m\u001b[0;34m.\u001b[0m\u001b[0mtrain_function\u001b[0m\u001b[0;34m(\u001b[0m\u001b[0mins\u001b[0m\u001b[0;34m)\u001b[0m\u001b[0;34m\u001b[0m\u001b[0;34m\u001b[0m\u001b[0m\n\u001b[0m\u001b[1;32m   1218\u001b[0m         \u001b[0;32mreturn\u001b[0m \u001b[0munpack_singleton\u001b[0m\u001b[0;34m(\u001b[0m\u001b[0moutputs\u001b[0m\u001b[0;34m)\u001b[0m\u001b[0;34m\u001b[0m\u001b[0;34m\u001b[0m\u001b[0m\n\u001b[1;32m   1219\u001b[0m \u001b[0;34m\u001b[0m\u001b[0m\n",
            "\u001b[0;32m/usr/local/lib/python3.6/dist-packages/keras/backend/tensorflow_backend.py\u001b[0m in \u001b[0;36m__call__\u001b[0;34m(self, inputs)\u001b[0m\n\u001b[1;32m   2713\u001b[0m                 \u001b[0;32mreturn\u001b[0m \u001b[0mself\u001b[0m\u001b[0;34m.\u001b[0m\u001b[0m_legacy_call\u001b[0m\u001b[0;34m(\u001b[0m\u001b[0minputs\u001b[0m\u001b[0;34m)\u001b[0m\u001b[0;34m\u001b[0m\u001b[0;34m\u001b[0m\u001b[0m\n\u001b[1;32m   2714\u001b[0m \u001b[0;34m\u001b[0m\u001b[0m\n\u001b[0;32m-> 2715\u001b[0;31m             \u001b[0;32mreturn\u001b[0m \u001b[0mself\u001b[0m\u001b[0;34m.\u001b[0m\u001b[0m_call\u001b[0m\u001b[0;34m(\u001b[0m\u001b[0minputs\u001b[0m\u001b[0;34m)\u001b[0m\u001b[0;34m\u001b[0m\u001b[0;34m\u001b[0m\u001b[0m\n\u001b[0m\u001b[1;32m   2716\u001b[0m         \u001b[0;32melse\u001b[0m\u001b[0;34m:\u001b[0m\u001b[0;34m\u001b[0m\u001b[0;34m\u001b[0m\u001b[0m\n\u001b[1;32m   2717\u001b[0m             \u001b[0;32mif\u001b[0m \u001b[0mpy_any\u001b[0m\u001b[0;34m(\u001b[0m\u001b[0mis_tensor\u001b[0m\u001b[0;34m(\u001b[0m\u001b[0mx\u001b[0m\u001b[0;34m)\u001b[0m \u001b[0;32mfor\u001b[0m \u001b[0mx\u001b[0m \u001b[0;32min\u001b[0m \u001b[0minputs\u001b[0m\u001b[0;34m)\u001b[0m\u001b[0;34m:\u001b[0m\u001b[0;34m\u001b[0m\u001b[0;34m\u001b[0m\u001b[0m\n",
            "\u001b[0;32m/usr/local/lib/python3.6/dist-packages/keras/backend/tensorflow_backend.py\u001b[0m in \u001b[0;36m_call\u001b[0;34m(self, inputs)\u001b[0m\n\u001b[1;32m   2673\u001b[0m             \u001b[0mfetched\u001b[0m \u001b[0;34m=\u001b[0m \u001b[0mself\u001b[0m\u001b[0;34m.\u001b[0m\u001b[0m_callable_fn\u001b[0m\u001b[0;34m(\u001b[0m\u001b[0;34m*\u001b[0m\u001b[0marray_vals\u001b[0m\u001b[0;34m,\u001b[0m \u001b[0mrun_metadata\u001b[0m\u001b[0;34m=\u001b[0m\u001b[0mself\u001b[0m\u001b[0;34m.\u001b[0m\u001b[0mrun_metadata\u001b[0m\u001b[0;34m)\u001b[0m\u001b[0;34m\u001b[0m\u001b[0;34m\u001b[0m\u001b[0m\n\u001b[1;32m   2674\u001b[0m         \u001b[0;32melse\u001b[0m\u001b[0;34m:\u001b[0m\u001b[0;34m\u001b[0m\u001b[0;34m\u001b[0m\u001b[0m\n\u001b[0;32m-> 2675\u001b[0;31m             \u001b[0mfetched\u001b[0m \u001b[0;34m=\u001b[0m \u001b[0mself\u001b[0m\u001b[0;34m.\u001b[0m\u001b[0m_callable_fn\u001b[0m\u001b[0;34m(\u001b[0m\u001b[0;34m*\u001b[0m\u001b[0marray_vals\u001b[0m\u001b[0;34m)\u001b[0m\u001b[0;34m\u001b[0m\u001b[0;34m\u001b[0m\u001b[0m\n\u001b[0m\u001b[1;32m   2676\u001b[0m         \u001b[0;32mreturn\u001b[0m \u001b[0mfetched\u001b[0m\u001b[0;34m[\u001b[0m\u001b[0;34m:\u001b[0m\u001b[0mlen\u001b[0m\u001b[0;34m(\u001b[0m\u001b[0mself\u001b[0m\u001b[0;34m.\u001b[0m\u001b[0moutputs\u001b[0m\u001b[0;34m)\u001b[0m\u001b[0;34m]\u001b[0m\u001b[0;34m\u001b[0m\u001b[0;34m\u001b[0m\u001b[0m\n\u001b[1;32m   2677\u001b[0m \u001b[0;34m\u001b[0m\u001b[0m\n",
            "\u001b[0;32m/usr/local/lib/python3.6/dist-packages/tensorflow/python/client/session.py\u001b[0m in \u001b[0;36m__call__\u001b[0;34m(self, *args, **kwargs)\u001b[0m\n\u001b[1;32m   1437\u001b[0m           ret = tf_session.TF_SessionRunCallable(\n\u001b[1;32m   1438\u001b[0m               \u001b[0mself\u001b[0m\u001b[0;34m.\u001b[0m\u001b[0m_session\u001b[0m\u001b[0;34m.\u001b[0m\u001b[0m_session\u001b[0m\u001b[0;34m,\u001b[0m \u001b[0mself\u001b[0m\u001b[0;34m.\u001b[0m\u001b[0m_handle\u001b[0m\u001b[0;34m,\u001b[0m \u001b[0margs\u001b[0m\u001b[0;34m,\u001b[0m \u001b[0mstatus\u001b[0m\u001b[0;34m,\u001b[0m\u001b[0;34m\u001b[0m\u001b[0;34m\u001b[0m\u001b[0m\n\u001b[0;32m-> 1439\u001b[0;31m               run_metadata_ptr)\n\u001b[0m\u001b[1;32m   1440\u001b[0m         \u001b[0;32mif\u001b[0m \u001b[0mrun_metadata\u001b[0m\u001b[0;34m:\u001b[0m\u001b[0;34m\u001b[0m\u001b[0;34m\u001b[0m\u001b[0m\n\u001b[1;32m   1441\u001b[0m           \u001b[0mproto_data\u001b[0m \u001b[0;34m=\u001b[0m \u001b[0mtf_session\u001b[0m\u001b[0;34m.\u001b[0m\u001b[0mTF_GetBuffer\u001b[0m\u001b[0;34m(\u001b[0m\u001b[0mrun_metadata_ptr\u001b[0m\u001b[0;34m)\u001b[0m\u001b[0;34m\u001b[0m\u001b[0;34m\u001b[0m\u001b[0m\n",
            "\u001b[0;31mKeyboardInterrupt\u001b[0m: "
          ]
        }
      ]
    }
  ]
}